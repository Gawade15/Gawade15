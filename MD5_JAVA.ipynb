{
  "nbformat": 4,
  "nbformat_minor": 0,
  "metadata": {
    "colab": {
      "provenance": [],
      "authorship_tag": "ABX9TyNt7FP9Zabbp5oSWOqVORKS",
      "include_colab_link": true
    },
    "kernelspec": {
      "name": "python3",
      "display_name": "Python 3"
    },
    "language_info": {
      "name": "python"
    }
  },
  "cells": [
    {
      "cell_type": "markdown",
      "metadata": {
        "id": "view-in-github",
        "colab_type": "text"
      },
      "source": [
        "<a href=\"https://colab.research.google.com/github/Gawade15/Gawade15/blob/main/MD5_JAVA.ipynb\" target=\"_parent\"><img src=\"https://colab.research.google.com/assets/colab-badge.svg\" alt=\"Open In Colab\"/></a>"
      ]
    },
    {
      "cell_type": "code",
      "execution_count": null,
      "metadata": {
        "id": "1F3LmhXjdIy7"
      },
      "outputs": [],
      "source": [
        "import java.security.MessageDigest;\n",
        "import java.security.NoSuchAlgorithmException;\n",
        "\n",
        "public class Main {\n",
        "    public static void main(String[] args) {\n",
        "        String text = \"Hello, World!\";\n",
        "        \n",
        "        try {\n",
        "            // Create MessageDigest instance for MD5\n",
        "            MessageDigest md = MessageDigest.getInstance(\"MD5\");\n",
        "            \n",
        "            // Add the text bytes to the digest\n",
        "            md.update(text.getBytes());\n",
        "            \n",
        "            // Get the hash value as byte array\n",
        "            byte[] digest = md.digest();\n",
        "            \n",
        "            // Convert the byte array to hexadecimal string\n",
        "            StringBuilder sb = new StringBuilder();\n",
        "            for (byte b : digest) {\n",
        "                sb.append(String.format(\"%02x\", b & 0xff));\n",
        "            }\n",
        "            \n",
        "            String md5Hash = sb.toString();\n",
        "            \n",
        "            // Print the MD5 hash\n",
        "            System.out.println(\"MD5 Hash: \" + md5Hash);\n",
        "        } catch (NoSuchAlgorithmException e) {\n",
        "            e.printStackTrace();\n",
        "        }\n",
        "    }\n",
        "}"
      ]
    }
  ]
}