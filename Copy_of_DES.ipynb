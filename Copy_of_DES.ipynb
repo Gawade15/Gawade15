{
  "nbformat": 4,
  "nbformat_minor": 0,
  "metadata": {
    "colab": {
      "provenance": [],
      "authorship_tag": "ABX9TyPDaF3I/TqmIPr31zJZ7/cf",
      "include_colab_link": true
    },
    "kernelspec": {
      "name": "python3",
      "display_name": "Python 3"
    },
    "language_info": {
      "name": "python"
    }
  },
  "cells": [
    {
      "cell_type": "markdown",
      "metadata": {
        "id": "view-in-github",
        "colab_type": "text"
      },
      "source": [
        "<a href=\"https://colab.research.google.com/github/Gawade15/Gawade15/blob/main/Copy_of_DES.ipynb\" target=\"_parent\"><img src=\"https://colab.research.google.com/assets/colab-badge.svg\" alt=\"Open In Colab\"/></a>"
      ]
    },
    {
      "cell_type": "code",
      "execution_count": null,
      "metadata": {
        "colab": {
          "base_uri": "https://localhost:8080/"
        },
        "id": "P-VEeE8ZFXle",
        "outputId": "65cd75c2-6584-4118-fdd0-533e9a42b5eb"
      },
      "outputs": [
        {
          "output_type": "stream",
          "name": "stdout",
          "text": [
            "Looking in indexes: https://pypi.org/simple, https://us-python.pkg.dev/colab-wheels/public/simple/\n",
            "Collecting PyCryptodome\n",
            "  Downloading pycryptodome-3.18.0-cp35-abi3-manylinux_2_17_x86_64.manylinux2014_x86_64.whl (2.1 MB)\n",
            "\u001b[2K     \u001b[90m━━━━━━━━━━━━━━━━━━━━━━━━━━━━━━━━━━━━━━━━\u001b[0m \u001b[32m2.1/2.1 MB\u001b[0m \u001b[31m33.7 MB/s\u001b[0m eta \u001b[36m0:00:00\u001b[0m\n",
            "\u001b[?25hInstalling collected packages: PyCryptodome\n",
            "Successfully installed PyCryptodome-3.18.0\n"
          ]
        }
      ],
      "source": [
        "!pip install PyCryptodome"
      ]
    },
    {
      "cell_type": "code",
      "source": [
        "from Crypto.Cipher import DES\n",
        "from Crypto.Util.Padding import pad, unpad\n",
        "from Crypto.Random import get_random_bytes\n",
        "\n",
        "# Generate a random 64-bit key\n",
        "key = get_random_bytes(8)\n",
        "\n",
        "# Create a DES cipher object with the key and DES.MODE_ECB mode\n",
        "cipher = DES.new(key, DES.MODE_ECB)\n",
        "\n",
        "# Encrypt plaintext\n",
        "plaintext = b'Hello, DES!'\n",
        "ciphertext = cipher.encrypt(pad(plaintext, DES.block_size))\n",
        "\n",
        "# Print the encrypted ciphertext\n",
        "print(\"Ciphertext:\", ciphertext)\n",
        "\n",
        "# Decrypt the ciphertext\n",
        "decrypted = cipher.decrypt(ciphertext)\n",
        "decrypted = unpad(decrypted, DES.block_size)\n",
        "\n",
        "# Print the decrypted plaintext\n",
        "print(\"Decrypted:\", decrypted.decode())"
      ],
      "metadata": {
        "colab": {
          "base_uri": "https://localhost:8080/"
        },
        "id": "pFpYiOY9Gd47",
        "outputId": "2936e08f-546e-4356-ac46-097b0575e3d9"
      },
      "execution_count": null,
      "outputs": [
        {
          "output_type": "stream",
          "name": "stdout",
          "text": [
            "Ciphertext: b'V\\xe5\\xdb\\x1bY\\xa8<\\xe4\\xd3L\\x08\\xa2\\xa2\\x9aPH'\n",
            "Decrypted: Hello, DES!\n"
          ]
        }
      ]
    },
    {
      "cell_type": "code",
      "source": [],
      "metadata": {
        "id": "-G99-yStHqHu"
      },
      "execution_count": null,
      "outputs": []
    }
  ]
}