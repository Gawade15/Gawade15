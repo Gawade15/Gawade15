{
  "nbformat": 4,
  "nbformat_minor": 0,
  "metadata": {
    "colab": {
      "provenance": [],
      "authorship_tag": "ABX9TyMk5fyAV+W3usVR3U3ZmbYC",
      "include_colab_link": true
    },
    "kernelspec": {
      "name": "python3",
      "display_name": "Python 3"
    },
    "language_info": {
      "name": "python"
    }
  },
  "cells": [
    {
      "cell_type": "markdown",
      "metadata": {
        "id": "view-in-github",
        "colab_type": "text"
      },
      "source": [
        "<a href=\"https://colab.research.google.com/github/Gawade15/Gawade15/blob/main/RSA.ipynb\" target=\"_parent\"><img src=\"https://colab.research.google.com/assets/colab-badge.svg\" alt=\"Open In Colab\"/></a>"
      ]
    },
    {
      "cell_type": "code",
      "execution_count": null,
      "metadata": {
        "id": "qzO2psLTRD9n"
      },
      "outputs": [],
      "source": [
        "import math\n",
        "p = 3\n",
        "q = 7\n",
        "n = p*q\n",
        "print(\"n =\", n)\n",
        "phi = (p-1)*(q-1)\n",
        "e = 2\n",
        "while(e<phi):\n",
        "    if (math.gcd(e, phi) == 1):\n",
        "        break\n",
        "    else:\n",
        "        e += 1\n",
        "print(\"e =\", e)\n",
        "k = 2\n",
        "d = ((k*phi)+1)/e\n",
        "print(\"d =\", d)\n",
        "print(f'Public key: {e, n}')\n",
        "print(f'Private key: {d, n}')\n",
        "\n",
        "msg = 21\n",
        "print(f'Original message:{msg}')\n",
        "\n",
        "# encryption\n",
        "C = pow(msg, e)\n",
        "C = math.fmod(C, n)\n",
        "print(f'Encrypted message: {C}')\n",
        "\n",
        "# decryption\n",
        "M = pow(C, d)\n",
        "M = math.fmod(M, n)\n",
        "\n",
        "print(f'Decrypted message: {M}') "
      ]
    },
    {
      "cell_type": "code",
      "source": [],
      "metadata": {
        "id": "TpeJq4lfREkm"
      },
      "execution_count": null,
      "outputs": []
    }
  ]
}