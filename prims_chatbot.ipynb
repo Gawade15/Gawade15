{
  "nbformat": 4,
  "nbformat_minor": 0,
  "metadata": {
    "colab": {
      "provenance": [],
      "authorship_tag": "ABX9TyPTuBVvfbAjtwRNyI1qjImw",
      "include_colab_link": true
    },
    "kernelspec": {
      "name": "python3",
      "display_name": "Python 3"
    },
    "language_info": {
      "name": "python"
    }
  },
  "cells": [
    {
      "cell_type": "markdown",
      "metadata": {
        "id": "view-in-github",
        "colab_type": "text"
      },
      "source": [
        "<a href=\"https://colab.research.google.com/github/Gawade15/Gawade15/blob/main/prims_chatbot.ipynb\" target=\"_parent\"><img src=\"https://colab.research.google.com/assets/colab-badge.svg\" alt=\"Open In Colab\"/></a>"
      ]
    },
    {
      "cell_type": "code",
      "execution_count": 1,
      "metadata": {
        "colab": {
          "base_uri": "https://localhost:8080/"
        },
        "id": "j_HKsvbHeo7b",
        "outputId": "8889e03c-1ba8-4323-c63d-029d8cc89449"
      },
      "outputs": [
        {
          "output_type": "stream",
          "name": "stdout",
          "text": [
            "Edge: weight\n",
            "\n",
            "0-2:5\n",
            "[True, 0, True, 0, 0]\n",
            "0-1:19\n",
            "[True, True, True, 0, 0]\n",
            "0-0:0\n",
            "[True, True, True, 0, 0]\n",
            "0-0:0\n",
            "[True, True, True, 0, 0]\n"
          ]
        }
      ],
      "source": [
        "#prims algorithm\n",
        "\n",
        "INF=9999999\n",
        "N=5\n",
        "G = [[0, 19, 5, 0, 0],\n",
        "     [19, 0, 5, 9, 2],\n",
        "     [5, 5, 0, 1, 6],\n",
        "     [0, 9, 1, 0, 1],\n",
        "     [0, 2, 6, 1, 0]]\n",
        "\n",
        "selected_node=[0,0,0,0,0]\n",
        "no_edge=0\n",
        "selected_node[0]=True\n",
        "\n",
        "print(\"Edge: weight\\n\")\n",
        "m=0\n",
        "\n",
        "while(no_edge<N-1):\n",
        "    minimum=INF\n",
        "    a=0\n",
        "    b=0\n",
        "    for n in range(N):\n",
        "        if((not selected_node[n]) and G[m][n]):\n",
        "            if minimum>G[m][n]:\n",
        "                minimum=G[m][n]\n",
        "                a=m\n",
        "                b=n\n",
        "    print(str(a)+\"-\"+str(b)+\":\"+str(G[a][b]))\n",
        "    selected_node[b]=True\n",
        "    print(selected_node)\n",
        "    no_edge+=1"
      ]
    },
    {
      "cell_type": "code",
      "source": [
        "#chatbot\n",
        "import random\n",
        "\n",
        "response={\n",
        "    'hi':[\"hello!\",\"hi there!\",\"hi!\"],\n",
        "    'how are you':[\"i am good ,thanks\",\"i am doing well,thank you\",\"i am fine,thanks\"],\n",
        "    \"what's your name\":[\"i am chatbot\",'my name is chatbot',\"myself chatbot\",\"i am just a chatbot,i dont have a name\"],\n",
        "    'bye':['goodbye','bye','see you there!'],\n",
        "    'thank you':['you are welcome','no problem','anytime'],\n",
        "    'default':[\"i am sorry,i dont understant\",'can you please rephrase that?',\"i am not sure what you mean\"]\n",
        "}\n",
        "\n",
        "def chatbot():\n",
        "    print(random.choice(response['hi']))\n",
        "\n",
        "    while True:\n",
        "        message=input(\">\")\n",
        "\n",
        "        if \"hi\" in message.lower():\n",
        "            print(random.choice(response['hi']))\n",
        "        elif \"how are you\" in message.lower():\n",
        "            print(random.choice(response['how are you']))\n",
        "        elif \"bye\" in message.lower():\n",
        "            print(random.choice(response[\"bye\"]))\n",
        "        elif \"thank you\" in message.lower():\n",
        "            print(random.choice(response['thank you']))\n",
        "        else:\n",
        "            print(random.choice(response['default']))\n",
        "chatbot()\n",
        "        "
      ],
      "metadata": {
        "colab": {
          "base_uri": "https://localhost:8080/"
        },
        "id": "o0OvQHzAep_9",
        "outputId": "5fd7d9be-2a01-41e5-90f8-4b2812f256dc"
      },
      "execution_count": null,
      "outputs": [
        {
          "output_type": "stream",
          "name": "stdout",
          "text": [
            "hello!\n",
            ">hii\n",
            "hello!\n",
            ">how are you\n",
            "i am doing well,thank you\n",
            ">bye\n",
            "bye\n",
            ">nice to talk with u\n",
            "can you please rephrase that?\n"
          ]
        }
      ]
    },
    {
      "cell_type": "code",
      "source": [],
      "metadata": {
        "id": "pkopjETrezwp"
      },
      "execution_count": null,
      "outputs": []
    }
  ]
}