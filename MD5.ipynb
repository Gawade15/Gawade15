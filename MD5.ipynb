{
  "nbformat": 4,
  "nbformat_minor": 0,
  "metadata": {
    "colab": {
      "provenance": [],
      "authorship_tag": "ABX9TyM1st9BqihuDio9n/gvzQPK",
      "include_colab_link": true
    },
    "kernelspec": {
      "name": "python3",
      "display_name": "Python 3"
    },
    "language_info": {
      "name": "python"
    }
  },
  "cells": [
    {
      "cell_type": "markdown",
      "metadata": {
        "id": "view-in-github",
        "colab_type": "text"
      },
      "source": [
        "<a href=\"https://colab.research.google.com/github/Gawade15/Gawade15/blob/main/MD5.ipynb\" target=\"_parent\"><img src=\"https://colab.research.google.com/assets/colab-badge.svg\" alt=\"Open In Colab\"/></a>"
      ]
    },
    {
      "cell_type": "code",
      "execution_count": 1,
      "metadata": {
        "colab": {
          "base_uri": "https://localhost:8080/"
        },
        "id": "pPVJJwRALKU6",
        "outputId": "a2cc3556-b66b-42ef-d831-4615ab9d1b9f"
      },
      "outputs": [
        {
          "output_type": "stream",
          "name": "stdout",
          "text": [
            "Hash of the input string:\n",
            "922547e866c89b8f677312df0ccec8ee\n"
          ]
        }
      ],
      "source": [
        "# importing the required libraries\n",
        "import hashlib\n",
        "# making a message\n",
        "inputstring = \"This is a message sent by a computer user.\"\n",
        "# encoding the message using the library function\n",
        "output = hashlib.md5(inputstring.encode())\n",
        "# printing the hash function\n",
        "print(\"Hash of the input string:\")\n",
        "print(output.hexdigest())"
      ]
    },
    {
      "cell_type": "code",
      "source": [],
      "metadata": {
        "id": "ow2M4tpGLRl7"
      },
      "execution_count": null,
      "outputs": []
    }
  ]
}