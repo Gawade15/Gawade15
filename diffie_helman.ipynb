{
  "nbformat": 4,
  "nbformat_minor": 0,
  "metadata": {
    "colab": {
      "provenance": [],
      "authorship_tag": "ABX9TyPt8dD498D+iq8+bv2W/rCj",
      "include_colab_link": true
    },
    "kernelspec": {
      "name": "python3",
      "display_name": "Python 3"
    },
    "language_info": {
      "name": "python"
    }
  },
  "cells": [
    {
      "cell_type": "markdown",
      "metadata": {
        "id": "view-in-github",
        "colab_type": "text"
      },
      "source": [
        "<a href=\"https://colab.research.google.com/github/Gawade15/Gawade15/blob/main/diffie_helman.ipynb\" target=\"_parent\"><img src=\"https://colab.research.google.com/assets/colab-badge.svg\" alt=\"Open In Colab\"/></a>"
      ]
    },
    {
      "cell_type": "code",
      "execution_count": 1,
      "metadata": {
        "colab": {
          "base_uri": "https://localhost:8080/"
        },
        "id": "4p4ZHr1KOLiS",
        "outputId": "d9d81f25-f330-4a63-e794-77e95911ce46"
      },
      "outputs": [
        {
          "output_type": "stream",
          "name": "stdout",
          "text": [
            "Shared Secret (Alice): 2\n",
            "Shared Secret (Bob): 2\n"
          ]
        }
      ],
      "source": [
        "def generate_shared_secret(p, g, a, b):\n",
        "    # Alice's computation\n",
        "    A = (g ** a) % p\n",
        "\n",
        "    # Bob's computation\n",
        "    B = (g ** b) % p\n",
        "\n",
        "    # Shared secret computation\n",
        "    shared_secret_Alice = (B ** a) % p\n",
        "    shared_secret_Bob = (A ** b) % p\n",
        "\n",
        "    return shared_secret_Alice, shared_secret_Bob\n",
        "\n",
        "# Shared prime number and base\n",
        "p = 23\n",
        "g = 5\n",
        "\n",
        "# Alice's private key\n",
        "private_key_Alice = 6\n",
        "\n",
        "# Bob's private key\n",
        "private_key_Bob = 15\n",
        "\n",
        "# Generate shared secret\n",
        "shared_secret_Alice, shared_secret_Bob = generate_shared_secret(p, g, private_key_Alice, private_key_Bob)\n",
        "\n",
        "# Print the shared secret\n",
        "print(\"Shared Secret (Alice):\", shared_secret_Alice)\n",
        "print(\"Shared Secret (Bob):\", shared_secret_Bob)\n"
      ]
    },
    {
      "cell_type": "code",
      "source": [],
      "metadata": {
        "id": "f5yi6_5uOMoz"
      },
      "execution_count": null,
      "outputs": []
    }
  ]
}