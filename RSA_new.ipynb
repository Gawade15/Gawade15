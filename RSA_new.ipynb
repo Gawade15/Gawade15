{
  "nbformat": 4,
  "nbformat_minor": 0,
  "metadata": {
    "colab": {
      "provenance": [],
      "authorship_tag": "ABX9TyNZnEHOXxFGeQ46hS1JhVUj",
      "include_colab_link": true
    },
    "kernelspec": {
      "name": "python3",
      "display_name": "Python 3"
    },
    "language_info": {
      "name": "python"
    }
  },
  "cells": [
    {
      "cell_type": "markdown",
      "metadata": {
        "id": "view-in-github",
        "colab_type": "text"
      },
      "source": [
        "<a href=\"https://colab.research.google.com/github/Gawade15/Gawade15/blob/main/RSA_new.ipynb\" target=\"_parent\"><img src=\"https://colab.research.google.com/assets/colab-badge.svg\" alt=\"Open In Colab\"/></a>"
      ]
    },
    {
      "cell_type": "code",
      "execution_count": 2,
      "metadata": {
        "colab": {
          "base_uri": "https://localhost:8080/"
        },
        "id": "T8vPkjTbf8iF",
        "outputId": "4079863e-9ce9-43cb-b5ad-af7c96d8feb4"
      },
      "outputs": [
        {
          "output_type": "stream",
          "name": "stdout",
          "text": [
            "Enter prime1 :3\n",
            "Enter prime2 :5\n",
            "n :  15\n",
            "Initial message:\n",
            "20\n",
            "\n",
            "\n",
            "The encoded message(encrypted by public key)\n",
            "\n",
            "5\n",
            "\n",
            "\n",
            "The decoded message(decrypted by public key)\n",
            "\n",
            "5\n"
          ]
        }
      ],
      "source": [
        "import random\n",
        "import math\n",
        "\n",
        "public_key = None\n",
        "private_key = None\n",
        "n = None\n",
        "\n",
        "\n",
        "def setkeys():\n",
        "    global public_key, private_key, n\n",
        "\n",
        "    prime1 = int(input(\"Enter prime1 :\"))\n",
        "    prime2 = int(input(\"Enter prime2 :\"))\n",
        "\n",
        "    n = prime1 * prime2\n",
        "    fi = (prime1 - 1) * (prime2 - 1)\n",
        "    print(\"n : \", n)\n",
        "\n",
        "    e = 2\n",
        "    while True:\n",
        "        if math.gcd(e, fi) == 1:\n",
        "            break\n",
        "        e += 1\n",
        "    public_key = e\n",
        "\n",
        "    d = 3\n",
        "    while True:\n",
        "        if (d * e) % fi == 1:\n",
        "            break\n",
        "        d += 1\n",
        "    private_key = d\n",
        "\n",
        "\n",
        "def encrypt(message):\n",
        "    global public_key, n\n",
        "    e = public_key\n",
        "    encrypted_text = 1\n",
        "    while e > 0:\n",
        "        encrypted_text *= message\n",
        "        encrypted_text %= n\n",
        "        e -= 1\n",
        "    return encrypted_text\n",
        "\n",
        "\n",
        "def decrypt(encrypted_text):\n",
        "    global private_key, n\n",
        "    d = private_key\n",
        "    decrypted = 1\n",
        "    while d > 0:\n",
        "        decrypted *= encrypted_text\n",
        "        decrypted %= n\n",
        "        d -= 1\n",
        "    return decrypted\n",
        "\n",
        "\n",
        "def encoder(message):\n",
        "    encoded = 0\n",
        "    encoded = encrypt(message)\n",
        "    return encoded\n",
        "\n",
        "\n",
        "def decoder(encoded):\n",
        "    s = 0\n",
        "    s += decrypt(encoded)\n",
        "    return s\n",
        "\n",
        "\n",
        "if __name__ == '__main__':\n",
        "    setkeys()\n",
        "    message = 20\n",
        "\n",
        "    coded = encoder(message)\n",
        "    print(\"Initial message:\")\n",
        "    print(message)\n",
        "    print(\"\\n\\nThe encoded message(encrypted by public key)\\n\")\n",
        "    print(coded)\n",
        "    print(\"\\n\\nThe decoded message(decrypted by public key)\\n\")\n",
        "    print(decoder(coded))\n"
      ]
    },
    {
      "cell_type": "code",
      "source": [],
      "metadata": {
        "id": "qroTLCDYf9hx"
      },
      "execution_count": null,
      "outputs": []
    }
  ]
}