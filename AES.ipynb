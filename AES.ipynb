{
  "nbformat": 4,
  "nbformat_minor": 0,
  "metadata": {
    "colab": {
      "provenance": [],
      "authorship_tag": "ABX9TyNls9GKq08vzWDMU55BRvPs",
      "include_colab_link": true
    },
    "kernelspec": {
      "name": "python3",
      "display_name": "Python 3"
    },
    "language_info": {
      "name": "python"
    }
  },
  "cells": [
    {
      "cell_type": "markdown",
      "metadata": {
        "id": "view-in-github",
        "colab_type": "text"
      },
      "source": [
        "<a href=\"https://colab.research.google.com/github/Gawade15/Gawade15/blob/main/AES.ipynb\" target=\"_parent\"><img src=\"https://colab.research.google.com/assets/colab-badge.svg\" alt=\"Open In Colab\"/></a>"
      ]
    },
    {
      "cell_type": "code",
      "execution_count": 1,
      "metadata": {
        "colab": {
          "base_uri": "https://localhost:8080/"
        },
        "id": "vXdaEidlIGLv",
        "outputId": "96a61b59-810e-4bd2-aefe-c6e90b5d51b1"
      },
      "outputs": [
        {
          "output_type": "stream",
          "name": "stdout",
          "text": [
            "Looking in indexes: https://pypi.org/simple, https://us-python.pkg.dev/colab-wheels/public/simple/\n",
            "Collecting PyCryptodome\n",
            "  Downloading pycryptodome-3.18.0-cp35-abi3-manylinux_2_17_x86_64.manylinux2014_x86_64.whl (2.1 MB)\n",
            "\u001b[2K     \u001b[90m━━━━━━━━━━━━━━━━━━━━━━━━━━━━━━━━━━━━━━━━\u001b[0m \u001b[32m2.1/2.1 MB\u001b[0m \u001b[31m18.1 MB/s\u001b[0m eta \u001b[36m0:00:00\u001b[0m\n",
            "\u001b[?25hInstalling collected packages: PyCryptodome\n",
            "Successfully installed PyCryptodome-3.18.0\n"
          ]
        }
      ],
      "source": [
        "!pip install PyCryptodome"
      ]
    },
    {
      "cell_type": "code",
      "source": [
        "from Crypto.Cipher import AES\n",
        "from Crypto.Util.Padding import pad, unpad\n",
        "from Crypto.Random import get_random_bytes\n",
        "\n",
        "# Generate a random 256-bit key\n",
        "key = get_random_bytes(32)\n",
        "\n",
        "# Create an AES cipher object with the key and AES.MODE_ECB mode\n",
        "cipher = AES.new(key, AES.MODE_ECB)\n",
        "\n",
        "# Encrypt plaintext\n",
        "plaintext = b'hello'\n",
        "ciphertext = cipher.encrypt(pad(plaintext, AES.block_size))\n",
        "\n",
        "# Print the encrypted ciphertext\n",
        "print(\"Ciphertext:\", ciphertext)\n",
        "\n",
        "# Decrypt the ciphertext\n",
        "decrypted = cipher.decrypt(ciphertext)\n",
        "decrypted = unpad(decrypted, AES.block_size)\n",
        "\n",
        "# Print the decrypted plaintext\n",
        "print(\"Decrypted:\", decrypted.decode())\n"
      ],
      "metadata": {
        "colab": {
          "base_uri": "https://localhost:8080/"
        },
        "id": "eOSNw4jaIGtN",
        "outputId": "177fa542-de37-4f2e-ad21-5490277c17b2"
      },
      "execution_count": 2,
      "outputs": [
        {
          "output_type": "stream",
          "name": "stdout",
          "text": [
            "Ciphertext: b'\\x8e|j\\x16\\t\\xaf\\x87\\\\\\xfc==M\\xd4\\x17\\xda\\x96'\n",
            "Decrypted: hello\n"
          ]
        }
      ]
    },
    {
      "cell_type": "code",
      "source": [],
      "metadata": {
        "id": "nMRQWeAHIdTa"
      },
      "execution_count": null,
      "outputs": []
    }
  ]
}